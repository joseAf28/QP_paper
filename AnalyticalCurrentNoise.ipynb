{
 "cells": [
  {
   "cell_type": "code",
   "execution_count": 1,
   "metadata": {},
   "outputs": [],
   "source": [
    "import numpy as np\n",
    "import cmath\n",
    "import matplotlib.pyplot as plt\n",
    "import sympy as sp"
   ]
  },
  {
   "cell_type": "code",
   "execution_count": 2,
   "metadata": {},
   "outputs": [],
   "source": [
    "GA = sp.Symbol('GA', commutative=False); GR = sp.Symbol('GR', commutative=False); GK = sp.Symbol('GK', commutative=False);\n",
    "gA = sp.Symbol('gA', commutative=False); gR = sp.Symbol('gR', commutative=False); gK = sp.Symbol('gK', commutative=False);\n",
    "dot = sp.Symbol('.', commutative=False);\n",
    "F = sp.Symbol('F', commutative=False)\n",
    "\n"
   ]
  },
  {
   "cell_type": "code",
   "execution_count": 3,
   "metadata": {},
   "outputs": [],
   "source": [
    "g0mat = sp.Matrix([[gR, gK], [0, gA]])\n",
    "Sigma1 = sp.Matrix([[0,1],[1,0]])\n",
    "Gmat = sp.Matrix([[GR, GK], [0, GA]])\n",
    "\n",
    "dotMat = sp.Matrix([[dot, 0], [0, dot]])"
   ]
  },
  {
   "cell_type": "code",
   "execution_count": 4,
   "metadata": {},
   "outputs": [
    {
     "data": {
      "text/latex": [
       "$\\displaystyle \\left[\\begin{matrix}gR GR gK + \\left(gK GA + gR GK\\right) gA & gR GR gR\\\\gA GA gA & 0\\end{matrix}\\right]$"
      ],
      "text/plain": [
       "Matrix([\n",
       "[gR*GR*gK + (gK*GA + gR*GK)*gA, gR*GR*gR],\n",
       "[                     gA*GA*gA,        0]])"
      ]
     },
     "metadata": {},
     "output_type": "display_data"
    },
    {
     "name": "stdout",
     "output_type": "stream",
     "text": [
      "\n"
     ]
    },
    {
     "data": {
      "text/latex": [
       "$\\displaystyle \\left[\\begin{matrix}GK & GR\\\\GA & 0\\end{matrix}\\right]$"
      ],
      "text/plain": [
       "Matrix([\n",
       "[GK, GR],\n",
       "[GA,  0]])"
      ]
     },
     "metadata": {},
     "output_type": "display_data"
    },
    {
     "data": {
      "text/latex": [
       "$\\displaystyle \\left[\\begin{matrix}gK GA + gR GK & gR GR\\\\gA GA & 0\\end{matrix}\\right]$"
      ],
      "text/plain": [
       "Matrix([\n",
       "[gK*GA + gR*GK, gR*GR],\n",
       "[        gA*GA,     0]])"
      ]
     },
     "metadata": {},
     "output_type": "display_data"
    }
   ],
   "source": [
    "term1 = (g0mat*Gmat*g0mat*Sigma1)\n",
    "display(term1)\n",
    "\n",
    "print()\n",
    "\n",
    "term2 = (Gmat*Sigma1)\n",
    "display(term2)\n",
    "\n",
    "\n",
    "term3 = (g0mat*Gmat*Sigma1)\n",
    "display(term3)"
   ]
  },
  {
   "cell_type": "code",
   "execution_count": 5,
   "metadata": {},
   "outputs": [
    {
     "data": {
      "text/latex": [
       "$\\displaystyle \\left[\\begin{matrix}GK gA + GR gK & GR gR\\\\GA gA & 0\\end{matrix}\\right]$"
      ],
      "text/plain": [
       "Matrix([\n",
       "[GK*gA + GR*gK, GR*gR],\n",
       "[        GA*gA,     0]])"
      ]
     },
     "metadata": {},
     "output_type": "display_data"
    }
   ],
   "source": [
    "term4 = (Gmat*g0mat*Sigma1)\n",
    "display(term4)"
   ]
  },
  {
   "cell_type": "code",
   "execution_count": 6,
   "metadata": {},
   "outputs": [
    {
     "data": {
      "text/latex": [
       "$\\displaystyle gA . GR + gK . GK + gR . GA$"
      ],
      "text/plain": [
       "gA*.*GR + gK*.*GK + gR*.*GA"
      ]
     },
     "metadata": {},
     "output_type": "display_data"
    },
    {
     "data": {
      "text/latex": [
       "$\\displaystyle GA . gR + GK . gK + GR . gA$"
      ],
      "text/plain": [
       "GA*.*gR + GK*.*gK + GR*.*gA"
      ]
     },
     "metadata": {},
     "output_type": "display_data"
    }
   ],
   "source": [
    "### Aalytical Expressions\n",
    "S01 = (g0mat*Sigma1*dotMat*Gmat*Sigma1).trace().expand()\n",
    "display(S01)\n",
    "\n",
    "S02 =(Gmat*Sigma1*dotMat*g0mat*Sigma1).trace().expand()\n",
    "display(S02)\n"
   ]
  },
  {
   "cell_type": "code",
   "execution_count": 7,
   "metadata": {},
   "outputs": [
    {
     "data": {
      "text/latex": [
       "$\\displaystyle \\left[\\begin{matrix}GK . GA gA + GR . GK gA + GR . GR gK & GR . GR gR\\\\GA . GA gA & 0\\end{matrix}\\right]$"
      ],
      "text/plain": [
       "Matrix([\n",
       "[GK*.*GA*gA + GR*.*GK*gA + GR*.*GR*gK, GR*.*GR*gR],\n",
       "[                          GA*.*GA*gA,          0]])"
      ]
     },
     "metadata": {},
     "output_type": "display_data"
    },
    {
     "data": {
      "text/latex": [
       "$\\displaystyle \\left[\\begin{matrix}GK . GK gA + GK . GR gK + GR . GA gA & GK . GR gR\\\\GA . GK gA + GA . GR gK & GA . GR gR\\end{matrix}\\right]$"
      ],
      "text/plain": [
       "Matrix([\n",
       "[GK*.*GK*gA + GK*.*GR*gK + GR*.*GA*gA, GK*.*GR*gR],\n",
       "[             GA*.*GK*gA + GA*.*GR*gK, GA*.*GR*gR]])"
      ]
     },
     "metadata": {},
     "output_type": "display_data"
    },
    {
     "data": {
      "text/latex": [
       "$\\displaystyle \\left[\\begin{matrix}0 & gA GA . GA\\\\gR GR . GR & gK GA . GA + gR GK . GA + gR GR . GK\\end{matrix}\\right]$"
      ],
      "text/plain": [
       "Matrix([\n",
       "[         0,                           gA*GA*.*GA],\n",
       "[gR*GR*.*GR, gK*GA*.*GA + gR*GK*.*GA + gR*GR*.*GK]])"
      ]
     },
     "metadata": {},
     "output_type": "display_data"
    },
    {
     "data": {
      "text/latex": [
       "$\\displaystyle \\left[\\begin{matrix}gK GA . GK + gR GK . GK + gR GR . GA & gK GA . GR + gR GK . GR\\\\gA GA . GK & gA GA . GR\\end{matrix}\\right]$"
      ],
      "text/plain": [
       "Matrix([\n",
       "[gK*GA*.*GK + gR*GK*.*GK + gR*GR*.*GA, gK*GA*.*GR + gR*GK*.*GR],\n",
       "[                          gA*GA*.*GK,              gA*GA*.*GR]])"
      ]
     },
     "metadata": {},
     "output_type": "display_data"
    }
   ],
   "source": [
    "termM1cl = (Gmat*dotMat*Gmat*g0mat*Sigma1).expand()\n",
    "display(termM1cl) \n",
    "\n",
    "termM1q = (Gmat*Sigma1*dotMat*Gmat*g0mat*Sigma1).expand()\n",
    "display(termM1q) \n",
    "\n",
    "termM2cl = (Sigma1*g0mat*Gmat*dotMat*Gmat).expand()\n",
    "display(termM2cl)\n",
    "\n",
    "termM2q = (g0mat*Gmat*Sigma1*dotMat*Gmat*Sigma1).expand()\n",
    "display(termM2q)\n",
    "\n",
    "\n"
   ]
  },
  {
   "cell_type": "code",
   "execution_count": 8,
   "metadata": {},
   "outputs": [
    {
     "data": {
      "text/latex": [
       "$\\displaystyle \\left[\\begin{matrix}GK gA + GR gK & GR gR\\\\GA gA & 0\\end{matrix}\\right]$"
      ],
      "text/plain": [
       "Matrix([\n",
       "[GK*gA + GR*gK, GR*gR],\n",
       "[        GA*gA,     0]])"
      ]
     },
     "metadata": {},
     "output_type": "display_data"
    },
    {
     "data": {
      "text/latex": [
       "$\\displaystyle \\left[\\begin{matrix}GK & GR\\\\GA & 0\\end{matrix}\\right]$"
      ],
      "text/plain": [
       "Matrix([\n",
       "[GK, GR],\n",
       "[GA,  0]])"
      ]
     },
     "metadata": {},
     "output_type": "display_data"
    },
    {
     "data": {
      "text/latex": [
       "$\\displaystyle \\left[\\begin{matrix}gK GA + gR GK & gR GR\\\\gA GA & 0\\end{matrix}\\right]$"
      ],
      "text/plain": [
       "Matrix([\n",
       "[gK*GA + gR*GK, gR*GR],\n",
       "[        gA*GA,     0]])"
      ]
     },
     "metadata": {},
     "output_type": "display_data"
    }
   ],
   "source": [
    "matM1 = (Gmat*g0mat*Sigma1).expand()\n",
    "display(matM1)\n",
    "\n",
    "\n",
    "matM12 = (Gmat*Sigma1).expand()\n",
    "display(matM12)\n",
    "\n",
    "\n",
    "matM12 = (g0mat*Gmat*Sigma1).expand()\n",
    "display(matM12)"
   ]
  },
  {
   "cell_type": "code",
   "execution_count": 9,
   "metadata": {},
   "outputs": [
    {
     "data": {
      "text/latex": [
       "$\\displaystyle \\left[\\begin{matrix}GK . GR gR & GK . GK gA + GK . GR gK + GR . GA gA\\\\GA . GR gR & GA . GK gA + GA . GR gK\\end{matrix}\\right]$"
      ],
      "text/plain": [
       "Matrix([\n",
       "[GK*.*GR*gR, GK*.*GK*gA + GK*.*GR*gK + GR*.*GA*gA],\n",
       "[GA*.*GR*gR,              GA*.*GK*gA + GA*.*GR*gK]])"
      ]
     },
     "metadata": {},
     "output_type": "display_data"
    },
    {
     "data": {
      "text/latex": [
       "$\\displaystyle \\left[\\begin{matrix}GR . GR gR & GK . GA gA + GR . GK gA + GR . GR gK\\\\0 & GA . GA gA\\end{matrix}\\right]$"
      ],
      "text/plain": [
       "Matrix([\n",
       "[GR*.*GR*gR, GK*.*GA*gA + GR*.*GK*gA + GR*.*GR*gK],\n",
       "[         0,                           GA*.*GA*gA]])"
      ]
     },
     "metadata": {},
     "output_type": "display_data"
    },
    {
     "data": {
      "text/latex": [
       "$\\displaystyle \\left[\\begin{matrix}gR GR . GR & gK GA . GA + gR GK . GA + gR GR . GK\\\\0 & gA GA . GA\\end{matrix}\\right]$"
      ],
      "text/plain": [
       "Matrix([\n",
       "[gR*GR*.*GR, gK*GA*.*GA + gR*GK*.*GA + gR*GR*.*GK],\n",
       "[         0,                           gA*GA*.*GA]])"
      ]
     },
     "metadata": {},
     "output_type": "display_data"
    },
    {
     "data": {
      "text/latex": [
       "$\\displaystyle \\left[\\begin{matrix}gK GA . GR + gR GK . GR & gK GA . GK + gR GK . GK + gR GR . GA\\\\gA GA . GR & gA GA . GK\\end{matrix}\\right]$"
      ],
      "text/plain": [
       "Matrix([\n",
       "[gK*GA*.*GR + gR*GK*.*GR, gK*GA*.*GK + gR*GK*.*GK + gR*GR*.*GA],\n",
       "[             gA*GA*.*GR,                           gA*GA*.*GK]])"
      ]
     },
     "metadata": {},
     "output_type": "display_data"
    }
   ],
   "source": [
    "termK1cl = (Gmat*Sigma1*dotMat*Gmat*g0mat).expand()\n",
    "display(termK1cl) \n",
    "\n",
    "termK1q = (Gmat*dotMat*Gmat*g0mat).expand()\n",
    "display(termK1q) \n",
    "\n",
    "termK2cl = (g0mat*Gmat*dotMat*Gmat).expand()\n",
    "display(termK2cl)\n",
    "\n",
    "termK2q = (g0mat*Gmat*Sigma1*dotMat*Gmat).expand()\n",
    "display(termK2q)"
   ]
  },
  {
   "cell_type": "code",
   "execution_count": 10,
   "metadata": {},
   "outputs": [
    {
     "data": {
      "text/latex": [
       "$\\displaystyle \\left[\\begin{matrix}gR GR & gK GA + gR GK\\\\0 & gA GA\\end{matrix}\\right]$"
      ],
      "text/plain": [
       "Matrix([\n",
       "[gR*GR, gK*GA + gR*GK],\n",
       "[    0,         gA*GA]])"
      ]
     },
     "metadata": {},
     "output_type": "display_data"
    },
    {
     "data": {
      "text/latex": [
       "$\\displaystyle \\left[\\begin{matrix}GR gR & GK gA + GR gK\\\\0 & GA gA\\end{matrix}\\right]$"
      ],
      "text/plain": [
       "Matrix([\n",
       "[GR*gR, GK*gA + GR*gK],\n",
       "[    0,         GA*gA]])"
      ]
     },
     "metadata": {},
     "output_type": "display_data"
    }
   ],
   "source": [
    "mat = g0mat*Gmat\n",
    "display(mat)\n",
    "\n",
    "\n",
    "mat2 = Gmat*g0mat\n",
    "display(mat2)"
   ]
  },
  {
   "cell_type": "code",
   "execution_count": 11,
   "metadata": {},
   "outputs": [
    {
     "data": {
      "text/latex": [
       "$\\displaystyle \\left[\\begin{matrix}GK & GR\\\\GA & 0\\end{matrix}\\right]$"
      ],
      "text/plain": [
       "Matrix([\n",
       "[GK, GR],\n",
       "[GA,  0]])"
      ]
     },
     "metadata": {},
     "output_type": "display_data"
    },
    {
     "data": {
      "text/latex": [
       "$\\displaystyle \\left[\\begin{matrix}GK gA + GR gK & GR gR\\\\GA gA & 0\\end{matrix}\\right]$"
      ],
      "text/plain": [
       "Matrix([\n",
       "[GK*gA + GR*gK, GR*gR],\n",
       "[        GA*gA,     0]])"
      ]
     },
     "metadata": {},
     "output_type": "display_data"
    },
    {
     "data": {
      "text/latex": [
       "$\\displaystyle \\left[\\begin{matrix}gK GA + gR GK & gR GR\\\\gA GA & 0\\end{matrix}\\right]$"
      ],
      "text/plain": [
       "Matrix([\n",
       "[gK*GA + gR*GK, gR*GR],\n",
       "[        gA*GA,     0]])"
      ]
     },
     "metadata": {},
     "output_type": "display_data"
    }
   ],
   "source": [
    "mat2 = (Gmat*Sigma1).expand()\n",
    "display(mat2)\n",
    "\n",
    "mat3 = (Gmat*g0mat*Sigma1).expand()\n",
    "display(mat3)\n",
    "\n",
    "mat4 = (g0mat*Gmat*Sigma1).expand()\n",
    "display(mat4)\n",
    "\n"
   ]
  },
  {
   "cell_type": "code",
   "execution_count": 12,
   "metadata": {},
   "outputs": [
    {
     "data": {
      "text/latex": [
       "$\\displaystyle \\left[\\begin{matrix}GK . GK gA . gK GA . GK + GK . GK gA . gR GK . GK + GK . GK gA . gR GR . GA + GK . GR gK . gK GA . GK + GK . GR gK . gR GK . GK + GK . GR gK . gR GR . GA + GK . GR gR . gA GA . GK + GR . GA gA . gK GA . GK + GR . GA gA . gR GK . GK + GR . GA gA . gR GR . GA & GK . GK gA . gK GA . GR + GK . GK gA . gR GK . GR + GK . GR gK . gK GA . GR + GK . GR gK . gR GK . GR + GK . GR gR . gA GA . GR + GR . GA gA . gK GA . GR + GR . GA gA . gR GK . GR\\\\GA . GK gA . gK GA . GK + GA . GK gA . gR GK . GK + GA . GK gA . gR GR . GA + GA . GR gK . gK GA . GK + GA . GR gK . gR GK . GK + GA . GR gK . gR GR . GA + GA . GR gR . gA GA . GK & GA . GK gA . gK GA . GR + GA . GK gA . gR GK . GR + GA . GR gK . gK GA . GR + GA . GR gK . gR GK . GR + GA . GR gR . gA GA . GR\\end{matrix}\\right]$"
      ],
      "text/plain": [
       "Matrix([\n",
       "[GK*.*GK*gA*.*gK*GA*.*GK + GK*.*GK*gA*.*gR*GK*.*GK + GK*.*GK*gA*.*gR*GR*.*GA + GK*.*GR*gK*.*gK*GA*.*GK + GK*.*GR*gK*.*gR*GK*.*GK + GK*.*GR*gK*.*gR*GR*.*GA + GK*.*GR*gR*.*gA*GA*.*GK + GR*.*GA*gA*.*gK*GA*.*GK + GR*.*GA*gA*.*gR*GK*.*GK + GR*.*GA*gA*.*gR*GR*.*GA, GK*.*GK*gA*.*gK*GA*.*GR + GK*.*GK*gA*.*gR*GK*.*GR + GK*.*GR*gK*.*gK*GA*.*GR + GK*.*GR*gK*.*gR*GK*.*GR + GK*.*GR*gR*.*gA*GA*.*GR + GR*.*GA*gA*.*gK*GA*.*GR + GR*.*GA*gA*.*gR*GK*.*GR],\n",
       "[                                                                              GA*.*GK*gA*.*gK*GA*.*GK + GA*.*GK*gA*.*gR*GK*.*GK + GA*.*GK*gA*.*gR*GR*.*GA + GA*.*GR*gK*.*gK*GA*.*GK + GA*.*GR*gK*.*gR*GK*.*GK + GA*.*GR*gK*.*gR*GR*.*GA + GA*.*GR*gR*.*gA*GA*.*GK,                                                     GA*.*GK*gA*.*gK*GA*.*GR + GA*.*GK*gA*.*gR*GK*.*GR + GA*.*GR*gK*.*gK*GA*.*GR + GA*.*GR*gK*.*gR*GK*.*GR + GA*.*GR*gR*.*gA*GA*.*GR]])"
      ]
     },
     "metadata": {},
     "output_type": "display_data"
    }
   ],
   "source": [
    "termMqq = (termM1q*dot*termM2q).expand()\n",
    "display(termMqq)"
   ]
  },
  {
   "cell_type": "code",
   "execution_count": 13,
   "metadata": {},
   "outputs": [
    {
     "data": {
      "text/latex": [
       "$\\displaystyle \\left[\\begin{matrix}GK GR & GK^{2} + GR GA\\\\GA GR & GA GK\\end{matrix}\\right]$"
      ],
      "text/plain": [
       "Matrix([\n",
       "[GK*GR, GK**2 + GR*GA],\n",
       "[GA*GR,         GA*GK]])"
      ]
     },
     "metadata": {},
     "output_type": "display_data"
    }
   ],
   "source": [
    "matK1 = (Gmat*Sigma1*Gmat).expand()\n",
    "display(matK1)"
   ]
  },
  {
   "cell_type": "code",
   "execution_count": 14,
   "metadata": {},
   "outputs": [
    {
     "data": {
      "text/latex": [
       "$\\displaystyle \\left[\\begin{matrix}GK gA + GR gK & GR gR\\\\GA gA & 0\\end{matrix}\\right]$"
      ],
      "text/plain": [
       "Matrix([\n",
       "[GK*gA + GR*gK, GR*gR],\n",
       "[        GA*gA,     0]])"
      ]
     },
     "metadata": {},
     "output_type": "display_data"
    },
    {
     "data": {
      "text/latex": [
       "$\\displaystyle \\left[\\begin{matrix}gK GA + gR GK & gR GR\\\\gA GA & 0\\end{matrix}\\right]$"
      ],
      "text/plain": [
       "Matrix([\n",
       "[gK*GA + gR*GK, gR*GR],\n",
       "[        gA*GA,     0]])"
      ]
     },
     "metadata": {},
     "output_type": "display_data"
    }
   ],
   "source": [
    "check1 = (Gmat*g0mat*Sigma1).expand()\n",
    "display(check1)\n",
    "\n",
    "check2 = (g0mat*Gmat*Sigma1).expand()\n",
    "display(check2)\n"
   ]
  },
  {
   "cell_type": "code",
   "execution_count": 15,
   "metadata": {},
   "outputs": [
    {
     "data": {
      "text/latex": [
       "$\\displaystyle \\left[\\begin{matrix}GK . GA gA + GR . GK gA + GR . GR gK & GR . GR gR\\\\GA . GA gA & 0\\end{matrix}\\right]$"
      ],
      "text/plain": [
       "Matrix([\n",
       "[GK*.*GA*gA + GR*.*GK*gA + GR*.*GR*gK, GR*.*GR*gR],\n",
       "[                          GA*.*GA*gA,          0]])"
      ]
     },
     "metadata": {},
     "output_type": "display_data"
    },
    {
     "data": {
      "text/latex": [
       "$\\displaystyle \\left[\\begin{matrix}0 & gA GA . GA\\\\gR GR . GR & gK GA . GA + gR GK . GA + gR GR . GK\\end{matrix}\\right]$"
      ],
      "text/plain": [
       "Matrix([\n",
       "[         0,                           gA*GA*.*GA],\n",
       "[gR*GR*.*GR, gK*GA*.*GA + gR*GK*.*GA + gR*GR*.*GK]])"
      ]
     },
     "metadata": {},
     "output_type": "display_data"
    }
   ],
   "source": [
    "check3 = (Gmat*dotMat*Gmat*g0mat*Sigma1).expand()\n",
    "display(check3)\n",
    "\n",
    "check4 = (Sigma1*g0mat*Gmat*dotMat*Gmat).expand()\n",
    "display(check4)"
   ]
  },
  {
   "cell_type": "code",
   "execution_count": 16,
   "metadata": {},
   "outputs": [
    {
     "data": {
      "text/latex": [
       "$\\displaystyle \\left[\\begin{matrix}GK & GR\\\\GA & 0\\end{matrix}\\right]$"
      ],
      "text/plain": [
       "Matrix([\n",
       "[GK, GR],\n",
       "[GA,  0]])"
      ]
     },
     "metadata": {},
     "output_type": "display_data"
    }
   ],
   "source": [
    "check5 = (Gmat*Sigma1).expand()\n",
    "display(check5)"
   ]
  },
  {
   "cell_type": "code",
   "execution_count": 17,
   "metadata": {},
   "outputs": [],
   "source": [
    "######################################"
   ]
  },
  {
   "cell_type": "code",
   "execution_count": null,
   "metadata": {},
   "outputs": [],
   "source": []
  },
  {
   "cell_type": "code",
   "execution_count": 18,
   "metadata": {},
   "outputs": [],
   "source": [
    "S01 = g0mat*dotMat*Gmat*Sigma1\n",
    "S02 = Gmat*dotMat*g0mat*Sigma1"
   ]
  },
  {
   "cell_type": "code",
   "execution_count": 19,
   "metadata": {},
   "outputs": [
    {
     "data": {
      "text/latex": [
       "$\\displaystyle gK . GA + gR . GK$"
      ],
      "text/plain": [
       "gK*.*GA + gR*.*GK"
      ]
     },
     "metadata": {},
     "output_type": "display_data"
    }
   ],
   "source": [
    "S02 = S02.expand().trace()\n",
    "S01 = S01.expand().trace()\n",
    "\n",
    "S0final = S01\n",
    "display(S0final)"
   ]
  },
  {
   "cell_type": "code",
   "execution_count": 20,
   "metadata": {},
   "outputs": [
    {
     "data": {
      "text/latex": [
       "$\\displaystyle gA GA . gR GR + gK GA . gK GA + gK GA . gR GK + gR GK . gK GA + gR GK . gR GK + gR GR . gA GA$"
      ],
      "text/plain": [
       "gA*GA*.*gR*GR + gK*GA*.*gK*GA + gK*GA*.*gR*GK + gR*GK*.*gK*GA + gR*GK*.*gR*GK + gR*GR*.*gA*GA"
      ]
     },
     "metadata": {},
     "output_type": "display_data"
    },
    {
     "name": "stdout",
     "output_type": "stream",
     "text": [
      "****************************************************************************************************\n"
     ]
    },
    {
     "data": {
      "text/latex": [
       "$\\displaystyle gK GA gA . GA + gR GK gA . GA + gR GR gK . GA + gR GR gR . GK$"
      ],
      "text/plain": [
       "gK*GA*gA*.*GA + gR*GK*gA*.*GA + gR*GR*gK*.*GA + gR*GR*gR*.*GK"
      ]
     },
     "metadata": {},
     "output_type": "display_data"
    },
    {
     "data": {
      "text/latex": [
       "$\\displaystyle GK . gA GA gA + GR . gK GA gA + GR . gR GK gA + GR . gR GR gK$"
      ],
      "text/plain": [
       "GK*.*gA*GA*gA + GR*.*gK*GA*gA + GR*.*gR*GK*gA + GR*.*gR*GR*gK"
      ]
     },
     "metadata": {},
     "output_type": "display_data"
    },
    {
     "data": {
      "text/latex": [
       "$\\displaystyle gK GA . gA GA + gR GK . gA GA + gR GR . gK GA + gR GR . gR GK$"
      ],
      "text/plain": [
       "gK*GA*.*gA*GA + gR*GK*.*gA*GA + gR*GR*.*gK*GA + gR*GR*.*gR*GK"
      ]
     },
     "metadata": {},
     "output_type": "display_data"
    }
   ],
   "source": [
    "#### Keldysh Non-Interactting Terms\n",
    "\n",
    "coupling = sp.Symbol('Gamma', commutative=True)\n",
    "greenLead = 1j*coupling/2\n",
    "\n",
    "\n",
    "# term1K = (g0mat*Gmat*g0mat*Sigma1*dotMat*Gmat*Sigma1).expand().trace().subs({gR: -greenLead, gA: greenLead})\n",
    "term1K = (g0mat*Gmat*g0mat*Sigma1*dotMat*Gmat*Sigma1).expand().trace()\n",
    "# display(term1K)\n",
    "\n",
    "\n",
    "# term2K = (g0mat*Gmat*Sigma1*dotMat*g0mat*Gmat*Sigma1).expand().trace().subs({gR: -greenLead, gA: greenLead})\n",
    "term2K = (g0mat*Gmat*Sigma1*dotMat*g0mat*Gmat*Sigma1).expand().trace()\n",
    "display(term2K)\n",
    "\n",
    "print(\"*\"*100)\n",
    "\n",
    "# term1A1 = (g0mat*Gmat*g0mat*dotMat*Gmat*Sigma1).expand().trace().subs({gR: -greenLead, gA: greenLead})\n",
    "term1A1 = (g0mat*Gmat*g0mat*dotMat*Gmat*Sigma1).expand().trace()\n",
    "display(term1A1)\n",
    "\n",
    "# term1A2 = (Gmat*dotMat*g0mat*Gmat*g0mat*Sigma1).expand().trace().subs({gR: -greenLead, gA: greenLead})\n",
    "term1A2 = (Gmat*dotMat*g0mat*Gmat*g0mat*Sigma1).expand().trace()\n",
    "display(term1A2)\n",
    "\n",
    "\n",
    "# term2A1 = (g0mat*Gmat*dotMat*g0mat*Gmat*Sigma1).expand().trace().subs({gR: -greenLead, gA: greenLead})\n",
    "term2A3 = (g0mat*Gmat*dotMat*g0mat*Gmat*Sigma1).expand().trace()\n",
    "display(term2A3)\n",
    "\n",
    "# term2A2 = (g0mat*Gmat*Sigma1*dotMat*g0mat*Gmat).expand().trace().subs({gR: -greenLead, gA: greenLead})\n",
    "# display(term2A2)\n"
   ]
  },
  {
   "cell_type": "code",
   "execution_count": 43,
   "metadata": {},
   "outputs": [
    {
     "data": {
      "text/latex": [
       "$\\displaystyle GA . gR + GK . gK + GR . gA$"
      ],
      "text/plain": [
       "GA*.*gR + GK*.*gK + GR*.*gA"
      ]
     },
     "metadata": {},
     "output_type": "display_data"
    },
    {
     "data": {
      "text/latex": [
       "$\\displaystyle gA . GR + gK . GK + gR . GA$"
      ],
      "text/plain": [
       "gA*.*GR + gK*.*GK + gR*.*GA"
      ]
     },
     "metadata": {},
     "output_type": "display_data"
    },
    {
     "data": {
      "text/latex": [
       "$\\displaystyle GK . gA + GR . gK$"
      ],
      "text/plain": [
       "GK*.*gA + GR*.*gK"
      ]
     },
     "metadata": {},
     "output_type": "display_data"
    },
    {
     "data": {
      "text/latex": [
       "$\\displaystyle gK . GA + gR . GK$"
      ],
      "text/plain": [
       "gK*.*GA + gR*.*GK"
      ]
     },
     "metadata": {},
     "output_type": "display_data"
    }
   ],
   "source": [
    "term0 = (Gmat*Sigma1*dotMat*g0mat*Sigma1).expand().trace()\n",
    "display(term0)\n",
    "\n",
    "\n",
    "term0b = (g0mat*Sigma1*dotMat*Gmat*Sigma1).expand().trace()\n",
    "display(term0b)\n",
    "\n",
    "\n",
    "term0R = (Gmat*dotMat*g0mat*Sigma1).expand().trace()\n",
    "display(term0R)\n",
    "\n",
    "\n",
    "term0bR = (g0mat*dotMat*Gmat*Sigma1).expand().trace()\n",
    "display(term0bR)\n",
    "\n"
   ]
  },
  {
   "cell_type": "code",
   "execution_count": 37,
   "metadata": {},
   "outputs": [
    {
     "data": {
      "text/latex": [
       "$\\displaystyle GK . gA GA gA + GR . gK GA gA + GR . gR GK gA + GR . gR GR gK$"
      ],
      "text/plain": [
       "GK*.*gA*GA*gA + GR*.*gK*GA*gA + GR*.*gR*GK*gA + GR*.*gR*GR*gK"
      ]
     },
     "metadata": {},
     "output_type": "display_data"
    }
   ],
   "source": [
    "# term1 = (g0mat*Gmat*g0mat*Sigma1*dotMat*Gmat*Sigma1).expand().trace()\n",
    "# display(term1)\n",
    "\n",
    "# term1R = (g0mat*Gmat*g0mat*dotMat*Gmat*Sigma1).expand().trace()\n",
    "# display(term1R)\n",
    "\n",
    "term2 = (Gmat*dotMat*g0mat*Gmat*g0mat*Sigma1).expand().trace()\n",
    "display(term2)\n",
    "\n",
    "# term2R = (g0mat*Gmat*Sigma1*dotMat*g0mat*Gmat).expand().trace()\n",
    "# display(term2R)\n",
    "\n",
    "\n",
    "# term4 = (Gmat*g0mat*Sigma1*dotMat*Gmat*g0mat*Sigma1).expand().trace()\n",
    "# display(term4)\n",
    "\n",
    "# term4R = (Gmat*g0mat*dotMat*Gmat*g0mat*Sigma1).expand().trace()\n",
    "# display(term4R)"
   ]
  },
  {
   "cell_type": "code",
   "execution_count": 21,
   "metadata": {},
   "outputs": [
    {
     "data": {
      "text/latex": [
       "$\\displaystyle gK . GA + gR . GK$"
      ],
      "text/plain": [
       "gK*.*GA + gR*.*GK"
      ]
     },
     "metadata": {},
     "output_type": "display_data"
    },
    {
     "data": {
      "text/latex": [
       "$\\displaystyle GK . gA + GR . gK$"
      ],
      "text/plain": [
       "GK*.*gA + GR*.*gK"
      ]
     },
     "metadata": {},
     "output_type": "display_data"
    }
   ],
   "source": [
    "### Retarded Component\n",
    "## Zero Order Terms\n",
    "\n",
    "S01R = (g0mat*dotMat*Gmat*Sigma1).trace().expand()\n",
    "S02R = (Gmat*dotMat*g0mat*Sigma1).trace().expand()\n",
    "\n",
    "display(S01R)\n",
    "display(S02R)"
   ]
  },
  {
   "cell_type": "code",
   "execution_count": null,
   "metadata": {},
   "outputs": [],
   "source": []
  },
  {
   "cell_type": "code",
   "execution_count": 22,
   "metadata": {},
   "outputs": [
    {
     "data": {
      "text/latex": [
       "$\\displaystyle gK GA gA . GA + gR GK gA . GA + gR GR gK . GA + gR GR gR . GK$"
      ],
      "text/plain": [
       "gK*GA*gA*.*GA + gR*GK*gA*.*GA + gR*GR*gK*.*GA + gR*GR*gR*.*GK"
      ]
     },
     "metadata": {},
     "output_type": "display_data"
    },
    {
     "data": {
      "text/latex": [
       "$\\displaystyle GK . gA GA gA + GR . gK GA gA + GR . gR GK gA + GR . gR GR gK$"
      ],
      "text/plain": [
       "GK*.*gA*GA*gA + GR*.*gK*GA*gA + GR*.*gR*GK*gA + GR*.*gR*GR*gK"
      ]
     },
     "metadata": {},
     "output_type": "display_data"
    },
    {
     "data": {
      "text/latex": [
       "$\\displaystyle gA GA gA . GK + gK GA gA . GR + gR GK gA . GR + gR GR gK . GR$"
      ],
      "text/plain": [
       "gA*GA*gA*.*GK + gK*GA*gA*.*GR + gR*GK*gA*.*GR + gR*GR*gK*.*GR"
      ]
     },
     "metadata": {},
     "output_type": "display_data"
    },
    {
     "data": {
      "text/latex": [
       "$\\displaystyle GA . gK GA gA + GA . gR GK gA + GA . gR GR gK + GK . gR GR gR$"
      ],
      "text/plain": [
       "GA*.*gK*GA*gA + GA*.*gR*GK*gA + GA*.*gR*GR*gK + GK*.*gR*GR*gR"
      ]
     },
     "metadata": {},
     "output_type": "display_data"
    }
   ],
   "source": [
    "### Retarded Component\n",
    "## First Order Terms\n",
    "\n",
    "S11R = (g0mat*Gmat*g0mat*dotMat*Gmat*Sigma1).trace().expand()\n",
    "display(S11R)\n",
    "\n",
    "S12R = (Sigma1*Gmat*dotMat*g0mat*Gmat*g0mat).trace().expand()\n",
    "display(S12R)\n",
    "\n",
    "S13R = (g0mat*Gmat*g0mat*dotMat*Sigma1*Gmat).trace().expand()\n",
    "display(S13R)\n",
    "\n",
    "S14R = (Gmat*Sigma1*dotMat*g0mat*Gmat*g0mat).trace().expand()\n",
    "display(S14R)"
   ]
  },
  {
   "cell_type": "code",
   "execution_count": 23,
   "metadata": {},
   "outputs": [
    {
     "data": {
      "text/latex": [
       "$\\displaystyle gK GA . gA GA + gR GK . gA GA + gR GR . gK GA + gR GR . gR GK$"
      ],
      "text/plain": [
       "gK*GA*.*gA*GA + gR*GK*.*gA*GA + gR*GR*.*gK*GA + gR*GR*.*gR*GK"
      ]
     },
     "metadata": {},
     "output_type": "display_data"
    },
    {
     "data": {
      "text/latex": [
       "$\\displaystyle GK gA . GA gA + GR gK . GA gA + GR gR . GK gA + GR gR . GR gK$"
      ],
      "text/plain": [
       "GK*gA*.*GA*gA + GR*gK*.*GA*gA + GR*gR*.*GK*gA + GR*gR*.*GR*gK"
      ]
     },
     "metadata": {},
     "output_type": "display_data"
    },
    {
     "data": {
      "text/latex": [
       "$\\displaystyle gA GA . gK GA + gA GA . gR GK + gK GA . gR GR + gR GK . gR GR$"
      ],
      "text/plain": [
       "gA*GA*.*gK*GA + gA*GA*.*gR*GK + gK*GA*.*gR*GR + gR*GK*.*gR*GR"
      ]
     },
     "metadata": {},
     "output_type": "display_data"
    },
    {
     "data": {
      "text/latex": [
       "$\\displaystyle GA gA . GK gA + GA gA . GR gK + GK gA . GR gR + GR gK . GR gR$"
      ],
      "text/plain": [
       "GA*gA*.*GK*gA + GA*gA*.*GR*gK + GK*gA*.*GR*gR + GR*gK*.*GR*gR"
      ]
     },
     "metadata": {},
     "output_type": "display_data"
    }
   ],
   "source": [
    "### Retarded Component\n",
    "## Second Order Terms\n",
    "\n",
    "S21R = (Sigma1*g0mat*Gmat*dotMat*g0mat*Gmat).trace().expand()\n",
    "display(S21R)\n",
    "\n",
    "S22R = (Sigma1*Gmat*g0mat*dotMat*Gmat*g0mat).trace().expand()\n",
    "display(S22R)\n",
    "\n",
    "S23R = (g0mat*Gmat*Sigma1*dotMat*g0mat*Gmat).trace().expand()\n",
    "display(S23R)\n",
    "\n",
    "S24R = (Gmat*g0mat*Sigma1*dotMat*Gmat*g0mat).trace().expand()\n",
    "display(S24R)"
   ]
  }
 ],
 "metadata": {
  "kernelspec": {
   "display_name": "LLM",
   "language": "python",
   "name": "python3"
  },
  "language_info": {
   "codemirror_mode": {
    "name": "ipython",
    "version": 3
   },
   "file_extension": ".py",
   "mimetype": "text/x-python",
   "name": "python",
   "nbconvert_exporter": "python",
   "pygments_lexer": "ipython3",
   "version": "3.12.7"
  }
 },
 "nbformat": 4,
 "nbformat_minor": 2
}
