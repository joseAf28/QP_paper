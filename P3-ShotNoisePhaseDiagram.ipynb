{
 "cells": [
  {
   "cell_type": "code",
   "execution_count": 1,
   "metadata": {},
   "outputs": [],
   "source": [
    "import numpy as np\n",
    "import matplotlib.pyplot as plt\n",
    "import scipy\n",
    "from tqdm import tqdm\n",
    "import h5py\n",
    "\n",
    "import calculation.MeanFieldv2 as MFv2\n",
    "import calculation.CurrentMeirv2 as CsMv2\n",
    "import calculation.SusceptibilitySimpv2 as Susceptv2\n",
    "import settings.Constants as const\n"
   ]
  },
  {
   "cell_type": "code",
   "execution_count": 2,
   "metadata": {},
   "outputs": [],
   "source": [
    "## Initial Conditions\n",
    "phiConstantInit = 0.5\n",
    "phiLambdaInit = 0.9"
   ]
  },
  {
   "cell_type": "code",
   "execution_count": 3,
   "metadata": {},
   "outputs": [
    {
     "name": "stdout",
     "output_type": "stream",
     "text": [
      "[0.6210870715657089, 0.4197408616475522, -3.584871956669474e-06, -8.923438210074599e-09]\n"
     ]
    }
   ],
   "source": [
    "\n",
    "Tvalue = 1e-2\n",
    "couplingValue = 0.7\n",
    "voltageSamples = np.array([0.0, 1.0782277033434142, 1.428227703343414, 1.778227703343414])\n",
    "voltageSamples\n",
    "lambdaValue = 1.0\n",
    "\n",
    "phiSpace = np.zeros(len(voltageSamples))\n",
    "\n",
    "for i in range(voltageSamples.shape[0]):\n",
    "    result = scipy.optimize.root(MFv2.computeMFLambda, phiConstantInit, args=(lambdaValue, voltageSamples[i], Tvalue, MFv2.Impy, couplingValue), method='lm', tol=1e-6)\n",
    "    phiSpace[i] = result.x[0]\n",
    "\n",
    "print(list(phiSpace))"
   ]
  },
  {
   "cell_type": "code",
   "execution_count": 5,
   "metadata": {},
   "outputs": [],
   "source": [
    "TSpace = np.linspace(1e-5, 0.5, 30)\n",
    "couplingValue = 0.7\n",
    "voltageValue = 0.0\n",
    "lambdaValue = 1.0\n",
    "\n",
    "phiSpace2 = np.zeros(len(TSpace))\n",
    "\n",
    "for i in range(TSpace.shape[0]):\n",
    "    result = scipy.optimize.root(MFv2.computeMFLambda, phiConstantInit, args=(lambdaValue, voltageValue, TSpace[i], MFv2.Impy, couplingValue), method='lm', tol=1e-6)\n",
    "    phiSpace2[i] = result.x[0]\n",
    "    # print(\"result: \", result)\n"
   ]
  },
  {
   "cell_type": "code",
   "execution_count": 6,
   "metadata": {},
   "outputs": [
    {
     "data": {
      "text/plain": [
       "<matplotlib.lines.Line2D at 0x1418e7cb0>"
      ]
     },
     "execution_count": 6,
     "metadata": {},
     "output_type": "execute_result"
    },
    {
     "data": {
      "image/png": "[encoded data removed]",
      "text/plain": [
       "<Figure size 640x480 with 1 Axes>"
      ]
     },
     "metadata": {},
     "output_type": "display_data"
    }
   ],
   "source": [
    "plt.plot(TSpace, phiSpace2)\n",
    "plt.axvline(x=0.45)"
   ]
  },
  {
   "cell_type": "code",
   "execution_count": 7,
   "metadata": {},
   "outputs": [
    {
     "name": "stdout",
     "output_type": "stream",
     "text": [
      "[0.621236848917168, 0.5565956915736564, 3.355376497644405e-08, -9.38470593908104e-09]\n"
     ]
    }
   ],
   "source": [
    "\n",
    "TSpace = np.array([1e-5, 2e-1, 0.45, 0.5])\n",
    "couplingValue = 0.7\n",
    "voltageValue = 0.0\n",
    "lambdaValue = 1.0\n",
    "\n",
    "phiSpace2 = np.zeros(len(voltageSamples))\n",
    "\n",
    "for i in range(TSpace.shape[0]):\n",
    "    result = scipy.optimize.root(MFv2.computeMFLambda, phiConstantInit, args=(lambdaValue, voltageValue, TSpace[i], MFv2.Impy, couplingValue), method='lm', tol=1e-6)\n",
    "    phiSpace2[i] = result.x[0]\n",
    "    # print(\"result: \", result)\n",
    "\n",
    "print(list(phiSpace2))"
   ]
  },
  {
   "cell_type": "code",
   "execution_count": 8,
   "metadata": {},
   "outputs": [
    {
     "data": {
      "text/plain": [
       "[<matplotlib.lines.Line2D at 0x141a36870>]"
      ]
     },
     "execution_count": 8,
     "metadata": {},
     "output_type": "execute_result"
    },
    {
     "data": {
      "image/png": "[encoded data removed]",
      "text/plain": [
       "<Figure size 640x480 with 1 Axes>"
      ]
     },
     "metadata": {},
     "output_type": "display_data"
    }
   ],
   "source": [
    "plt.plot(TSpace,phiSpace2, '.')"
   ]
  },
  {
   "cell_type": "code",
   "execution_count": 9,
   "metadata": {},
   "outputs": [],
   "source": [
    "\n",
    "#### shot noise and effective temperature (zero frequency) as as a function of V and T\n",
    "\n",
    "\n",
    "couplingValue = 0.7\n",
    "voltageNewSpace = np.linspace(0.02, 0.15, 25)\n",
    "TNewSpace = np.linspace(0.10, 0.45, 25)\n",
    "lambdaSamples = np.array([1.0])\n",
    "\n",
    "## Initial Conditions\n",
    "phiConstantInit = 0.5\n",
    "phiLambdaInit = 0.9\n",
    "\n"
   ]
  },
  {
   "cell_type": "code",
   "execution_count": 10,
   "metadata": {},
   "outputs": [
    {
     "name": "stderr",
     "output_type": "stream",
     "text": [
      "Computing phi(T): 100%|██████████| 625/625 [00:45<00:00, 13.62it/s]\n"
     ]
    }
   ],
   "source": [
    "def computeSaddlePoints(lambdaSamples, Tvalue, voltageSpacePlot, pbar=None):\n",
    "    saddle_points = np.zeros(len(voltageSpacePlot), dtype=float)\n",
    "    lambdaValue = lambdaSamples[0]\n",
    "    for i in range(len(voltageSpacePlot)):\n",
    "        voltageValue = voltageSpacePlot[i]\n",
    "        result = scipy.optimize.root(MFv2.computeMFLambda, phiConstantInit, args=(lambdaValue, voltageValue, Tvalue, MFv2.Impy, couplingValue), method='lm', tol=1e-6)\n",
    "        saddle_points[i] = result.x[0]\n",
    "            \n",
    "        if pbar is not None:\n",
    "            pbar.update(1)\n",
    "    \n",
    "    return saddle_points\n",
    "\n",
    "\n",
    "phi_voltage_T = np.zeros((len(TNewSpace), len(voltageNewSpace)), dtype=float)\n",
    "pbar = tqdm(total=len(TNewSpace)*len(voltageNewSpace), desc='Computing phi(T)')\n",
    "\n",
    "for i in range(len(TNewSpace)):\n",
    "    Tvalue = TNewSpace[i]\n",
    "    phi_voltage_T[i,:] = computeSaddlePoints(lambdaSamples, Tvalue, voltageNewSpace, pbar=pbar)\n",
    "pbar.close()\n"
   ]
  },
  {
   "cell_type": "code",
   "execution_count": 11,
   "metadata": {},
   "outputs": [],
   "source": [
    "\n",
    "domainSpace = np.zeros((phi_voltage_T.size, 5), dtype=float)\n",
    "\n",
    "counter = 0\n",
    "for i in range(len(TNewSpace)):\n",
    "    for j in range(len(voltageNewSpace)):\n",
    "        counter = i * len(TNewSpace) + j\n",
    "        domainSpace[counter, :] = [lambdaValue, voltageNewSpace[j], couplingValue, phi_voltage_T[i,j], TNewSpace[i]]\n"
   ]
  },
  {
   "cell_type": "code",
   "execution_count": 12,
   "metadata": {},
   "outputs": [
    {
     "data": {
      "image/png": "[encoded data removed]",
      "text/plain": [
       "<Figure size 640x480 with 1 Axes>"
      ]
     },
     "metadata": {},
     "output_type": "display_data"
    }
   ],
   "source": [
    "plt.figure()\n",
    "for i in range(phi_voltage_T.shape[0]):\n",
    "    plt.plot(phi_voltage_T[i])"
   ]
  },
  {
   "cell_type": "code",
   "execution_count": 13,
   "metadata": {},
   "outputs": [
    {
     "name": "stderr",
     "output_type": "stream",
     "text": [
      "Bosonic Green Functions: 100%|██████████| 625/625 [02:06<00:00,  4.95it/s]\n"
     ]
    }
   ],
   "source": [
    "\n",
    "#####* lambda = 1 (lambda zero is zero the interacting component)\n",
    "omegaSpace = np.array([-1e-4, 1e-4])\n",
    "DRDataOne = np.zeros((domainSpace.shape[0], omegaSpace.shape[0]), dtype=complex)\n",
    "DKDataOne = np.zeros((domainSpace.shape[0], omegaSpace.shape[0]), dtype=complex)\n",
    "    \n",
    "pbar = tqdm(total=domainSpace.shape[0], desc='Bosonic Green Functions')\n",
    "for i in range(domainSpace.shape[0]):\n",
    "    lambdaValue, voltageValue, couplingValue, phiValue, Tvalue = domainSpace[i,:]\n",
    "\n",
    "    vecPiR = Susceptv2.computePiR(omegaSpace, lambdaValue, phiValue, voltageValue, couplingValue, Tvalue=Tvalue)\n",
    "    if Tvalue < const.Tvalue_ref:\n",
    "        vecPiK = Susceptv2.computePiK(omegaSpace, lambdaValue, phiValue, voltageValue, couplingValue, Tvalue=Tvalue)\n",
    "    else:\n",
    "        vecPiK = Susceptv2.computePiKnum(omegaSpace, lambdaValue, phiValue, voltageValue, couplingValue, Tvalue=Tvalue)\n",
    "        \n",
    "    vecDR = np.reciprocal(-2.0*lambdaValue + vecPiR)\n",
    "    vecDK = Susceptv2.computeDKfunc(lambdaValue, vecPiK, vecPiR)\n",
    "    DRDataOne[i,:] = vecDR\n",
    "    DKDataOne[i,:] = vecDK\n",
    "    pbar.update(1)\n",
    "pbar.close()"
   ]
  },
  {
   "cell_type": "code",
   "execution_count": 14,
   "metadata": {},
   "outputs": [],
   "source": [
    "#### store the results in hdf5 file\n",
    "import h5py\n",
    "\n",
    "with h5py.File(\"h5_output_data/VT-space_lowV_V2.hdf5\", \"w\") as f:\n",
    "    \n",
    "    group = f.require_group(\"VTSpace\")\n",
    "    group.create_dataset(\"domain\", data=domainSpace)\n",
    "    group.create_dataset(\"phi_space\", data=phi_voltage_T)\n",
    "    \n",
    "    group.create_dataset(\"DRDataOne\", data=DRDataOne)\n",
    "    group.create_dataset(\"DKDataOne\", data=DKDataOne)"
   ]
  },
  {
   "cell_type": "code",
   "execution_count": null,
   "metadata": {},
   "outputs": [],
   "source": []
  }
 ],
 "metadata": {
  "kernelspec": {
   "display_name": "LLM",
   "language": "python",
   "name": "python3"
  },
  "language_info": {
   "codemirror_mode": {
    "name": "ipython",
    "version": 3
   },
   "file_extension": ".py",
   "mimetype": "text/x-python",
   "name": "python",
   "nbconvert_exporter": "python",
   "pygments_lexer": "ipython3",
   "version": "3.12.7"
  }
 },
 "nbformat": 4,
 "nbformat_minor": 2
}
